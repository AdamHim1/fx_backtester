{
 "cells": [
  {
   "cell_type": "code",
   "execution_count": 1,
   "id": "b0018bba-c84a-4d7f-8abf-462507b4123c",
   "metadata": {},
   "outputs": [
    {
     "name": "stdout",
     "output_type": "stream",
     "text": [
      "['/opt/anaconda3/envs/fx-env-3-11/lib/python311.zip', '/opt/anaconda3/envs/fx-env-3-11/lib/python3.11', '/opt/anaconda3/envs/fx-env-3-11/lib/python3.11/lib-dynload', '', '/opt/anaconda3/envs/fx-env-3-11/lib/python3.11/site-packages', '/Users/adamhim/Desktop/M2 203/Python/fx_backtester/src', '/Users/adamhim/Desktop/M2 203/Python/fx_backtester/Fx_SourceCode_Adapt']\n"
     ]
    }
   ],
   "source": [
    "import sys\n",
    "import os\n",
    "sys.path.append(os.path.abspath('/Users/adamhim/Desktop/M2 203/Python/fx_backtester/Fx_SourceCode_Adapt'))\n",
    "\n",
    "# Check if the path has been correctly added\n",
    "print(sys.path)"
   ]
  },
  {
   "cell_type": "code",
   "execution_count": 2,
   "id": "b0f4f55c",
   "metadata": {},
   "outputs": [
    {
     "name": "stdout",
     "output_type": "stream",
     "text": [
      "Data for EURUSD=X:\n",
      "                        Date      Open      High       Low     Close  \\\n",
      "0 2020-01-01 00:00:00+00:00  1.122083  1.122838  1.115947  1.122083   \n",
      "1 2020-01-02 00:00:00+00:00  1.121894  1.122712  1.116682  1.122083   \n",
      "2 2020-01-03 00:00:00+00:00  1.117081  1.118068  1.112570  1.117144   \n",
      "3 2020-01-06 00:00:00+00:00  1.116246  1.120825  1.115810  1.116196   \n",
      "4 2020-01-07 00:00:00+00:00  1.119583  1.119946  1.113487  1.119799   \n",
      "\n",
      "   Adj Close  Volume    ticker  \n",
      "0   1.122083       0  EURUSD=X  \n",
      "1   1.122083       0  EURUSD=X  \n",
      "2   1.117144       0  EURUSD=X  \n",
      "3   1.116196       0  EURUSD=X  \n",
      "4   1.119799       0  EURUSD=X  \n",
      "\n",
      "Data for multiple FX pairs:\n",
      "                        Date      Open      High       Low     Close  \\\n",
      "0 2020-01-01 00:00:00+00:00  1.122083  1.122838  1.115947  1.122083   \n",
      "1 2020-01-02 00:00:00+00:00  1.121894  1.122712  1.116682  1.122083   \n",
      "2 2020-01-03 00:00:00+00:00  1.117081  1.118068  1.112570  1.117144   \n",
      "3 2020-01-06 00:00:00+00:00  1.116246  1.120825  1.115810  1.116196   \n",
      "4 2020-01-07 00:00:00+00:00  1.119583  1.119946  1.113487  1.119799   \n",
      "\n",
      "   Adj Close  Volume    ticker  \n",
      "0   1.122083       0  EURUSD=X  \n",
      "1   1.122083       0  EURUSD=X  \n",
      "2   1.117144       0  EURUSD=X  \n",
      "3   1.116196       0  EURUSD=X  \n",
      "4   1.119799       0  EURUSD=X  \n"
     ]
    }
   ],
   "source": [
    "from Fx_SourceCode_Adapt.Fx_data_module import get_fx_data, get_fx_pairs_data\n",
    "\n",
    "# Test retrieving data for a single FX pair\n",
    "df_single = get_fx_data(\"EURUSD=X\", \"2020-01-01\", \"2021-01-01\")\n",
    "print(\"Data for EURUSD=X:\\n\", df_single.head())\n",
    "\n",
    "# Test retrieving data for multiple FX pairs\n",
    "pairs = [\"EURUSD=X\", \"GBPUSD=X\", \"USDJPY=X\"]\n",
    "df_multiple = get_fx_pairs_data(pairs, \"2020-01-01\", \"2021-01-01\")\n",
    "print(\"\\nData for multiple FX pairs:\\n\", df_multiple.head())"
   ]
  },
  {
   "cell_type": "code",
   "execution_count": 3,
   "id": "84cadff9",
   "metadata": {},
   "outputs": [
    {
     "name": "stdout",
     "output_type": "stream",
     "text": [
      "After buying EURUSD: 1000001.0\n",
      "After selling 50 units of EURUSD: 1000001.0\n",
      "After buying GBPUSD: 1000005.0\n",
      "\n",
      "Transaction Log:\n",
      "        Date Action      Pair Quantity  Price      Cash\n",
      "0 2021-01-01    BUY  EURUSD=X      100   1.22  999878.0\n",
      "1 2021-01-02   SELL  EURUSD=X       50   1.23  999939.5\n",
      "2 2021-02-01    BUY  GBPUSD=X      200   1.38  999663.5\n"
     ]
    },
    {
     "name": "stderr",
     "output_type": "stream",
     "text": [
      "/Users/adamhim/Desktop/M2 203/Python/fx_backtester/Fx_SourceCode_Adapt/Fx_broker.py:112: FutureWarning: The behavior of DataFrame concatenation with empty or all-NA entries is deprecated. In a future version, this will no longer exclude empty or all-NA columns when determining the result dtypes. To retain the old behavior, exclude the relevant entries before the concat operation.\n",
      "  self.transaction_log = pd.concat([self.transaction_log, transaction], ignore_index=True)\n"
     ]
    }
   ],
   "source": [
    "# Make sure to import the Broker class\n",
    "from Fx_SourceCode_Adapt.Fx_broker import Broker\n",
    "from datetime import datetime\n",
    "\n",
    "def test_broker():\n",
    "    # Create a broker with 1,000,000 in cash\n",
    "    broker = Broker(cash=1000000)\n",
    "\n",
    "    # Simulate buying 100 units of EURUSD=X at 1.22\n",
    "    broker.buy(\"EURUSD=X\", 100, 1.22, datetime(2021, 1, 1))\n",
    "    print(f\"After buying EURUSD: {broker.get_portfolio_value({'EURUSD=X': 1.23})}\")\n",
    "    \n",
    "    # Simulate selling 50 units of EURUSD=X at 1.23\n",
    "    broker.sell(\"EURUSD=X\", 50, 1.23, datetime(2021, 1, 2))\n",
    "    print(f\"After selling 50 units of EURUSD: {broker.get_portfolio_value({'EURUSD=X': 1.23})}\")\n",
    "    \n",
    "    # Simulate buying another 200 units of GBPUSD=X at 1.38\n",
    "    broker.buy(\"GBPUSD=X\", 200, 1.38, datetime(2021, 2, 1))\n",
    "    print(f\"After buying GBPUSD: {broker.get_portfolio_value({'EURUSD=X': 1.23, 'GBPUSD=X': 1.4})}\")\n",
    "    \n",
    "    # Check the transaction log\n",
    "    print(\"\\nTransaction Log:\")\n",
    "    print(broker.get_transaction_log())\n",
    "\n",
    "# Run the test\n",
    "test_broker()"
   ]
  },
  {
   "cell_type": "code",
   "execution_count": 6,
   "id": "e9dddd52",
   "metadata": {},
   "outputs": [
    {
     "ename": "TypeError",
     "evalue": "FxBacktest.__init__() missing 5 required positional arguments: 'broker', 'information_class', 'risk_model', 'name_blockchain', and 'verbose'",
     "output_type": "error",
     "traceback": [
      "\u001b[0;31m---------------------------------------------------------------------------\u001b[0m",
      "\u001b[0;31mTypeError\u001b[0m                                 Traceback (most recent call last)",
      "Cell \u001b[0;32mIn[6], line 1\u001b[0m\n\u001b[0;32m----> 1\u001b[0m \u001b[38;5;28;01mfrom\u001b[39;00m \u001b[38;5;21;01mFx_SourceCode_Adapt\u001b[39;00m\u001b[38;5;21;01m.\u001b[39;00m\u001b[38;5;21;01mFx_pybacktestchain\u001b[39;00m \u001b[38;5;28;01mimport\u001b[39;00m FxBacktest\n\u001b[1;32m      2\u001b[0m \u001b[38;5;28;01mfrom\u001b[39;00m \u001b[38;5;21;01mFx_SourceCode_Adapt\u001b[39;00m\u001b[38;5;21;01m.\u001b[39;00m\u001b[38;5;21;01mFx_data_module\u001b[39;00m \u001b[38;5;28;01mimport\u001b[39;00m FirstTwoMoments\n\u001b[1;32m      3\u001b[0m \u001b[38;5;28;01mfrom\u001b[39;00m \u001b[38;5;21;01mdatetime\u001b[39;00m \u001b[38;5;28;01mimport\u001b[39;00m datetime\n",
      "File \u001b[0;32m~/Desktop/M2 203/Python/fx_backtester/Fx_SourceCode_Adapt/Fx_pybacktestchain.py:77\u001b[0m\n\u001b[1;32m     74\u001b[0m     backtest\u001b[38;5;241m.\u001b[39mrun_backtest()\n\u001b[1;32m     76\u001b[0m \u001b[38;5;66;03m# Run the test\u001b[39;00m\n\u001b[0;32m---> 77\u001b[0m \u001b[43mtest_backtest\u001b[49m\u001b[43m(\u001b[49m\u001b[43m)\u001b[49m\n",
      "File \u001b[0;32m~/Desktop/M2 203/Python/fx_backtester/Fx_SourceCode_Adapt/Fx_pybacktestchain.py:71\u001b[0m, in \u001b[0;36mtest_backtest\u001b[0;34m()\u001b[0m\n\u001b[1;32m     68\u001b[0m \u001b[38;5;28;01mdef\u001b[39;00m \u001b[38;5;21mtest_backtest\u001b[39m():\n\u001b[1;32m     69\u001b[0m     \u001b[38;5;66;03m# Create the backtest with a list of FX pairs\u001b[39;00m\n\u001b[1;32m     70\u001b[0m     fx_pairs \u001b[38;5;241m=\u001b[39m [\u001b[38;5;124m\"\u001b[39m\u001b[38;5;124mEURUSD=X\u001b[39m\u001b[38;5;124m\"\u001b[39m, \u001b[38;5;124m\"\u001b[39m\u001b[38;5;124mGBPUSD=X\u001b[39m\u001b[38;5;124m\"\u001b[39m, \u001b[38;5;124m\"\u001b[39m\u001b[38;5;124mUSDJPY=X\u001b[39m\u001b[38;5;124m\"\u001b[39m]\n\u001b[0;32m---> 71\u001b[0m     backtest \u001b[38;5;241m=\u001b[39m \u001b[43mFxBacktest\u001b[49m\u001b[43m(\u001b[49m\u001b[43minitial_date\u001b[49m\u001b[38;5;241;43m=\u001b[39;49m\u001b[43mdatetime\u001b[49m\u001b[43m(\u001b[49m\u001b[38;5;241;43m2021\u001b[39;49m\u001b[43m,\u001b[49m\u001b[43m \u001b[49m\u001b[38;5;241;43m1\u001b[39;49m\u001b[43m,\u001b[49m\u001b[43m \u001b[49m\u001b[38;5;241;43m1\u001b[39;49m\u001b[43m)\u001b[49m\u001b[43m,\u001b[49m\u001b[43m \u001b[49m\u001b[43mfinal_date\u001b[49m\u001b[38;5;241;43m=\u001b[39;49m\u001b[43mdatetime\u001b[49m\u001b[43m(\u001b[49m\u001b[38;5;241;43m2021\u001b[39;49m\u001b[43m,\u001b[49m\u001b[43m \u001b[49m\u001b[38;5;241;43m12\u001b[39;49m\u001b[43m,\u001b[49m\u001b[43m \u001b[49m\u001b[38;5;241;43m31\u001b[39;49m\u001b[43m)\u001b[49m\u001b[43m,\u001b[49m\u001b[43m \u001b[49m\u001b[43muniverse\u001b[49m\u001b[38;5;241;43m=\u001b[39;49m\u001b[43mfx_pairs\u001b[49m\u001b[43m)\u001b[49m\n\u001b[1;32m     73\u001b[0m     \u001b[38;5;66;03m# Run the backtest\u001b[39;00m\n\u001b[1;32m     74\u001b[0m     backtest\u001b[38;5;241m.\u001b[39mrun_backtest()\n",
      "\u001b[0;31mTypeError\u001b[0m: FxBacktest.__init__() missing 5 required positional arguments: 'broker', 'information_class', 'risk_model', 'name_blockchain', and 'verbose'"
     ]
    }
   ],
   "source": [
    "from Fx_SourceCode_Adapt.Fx_pybacktestchain import FxBacktest\n",
    "from Fx_SourceCode_Adapt.Fx_data_module import FirstTwoMoments\n",
    "from datetime import datetime\n",
    "from Fx_SourceCode_Adapt.Fx_broker import StopLoss\n",
    "\n",
    "\n",
    "# Create the broker and set up the information class\n",
    "broker = Broker(cash=1000000)\n",
    "information_class = FirstTwoMoments()\n",
    "\n",
    "# Set up the risk model, for example StopLoss with a threshold\n",
    "risk_model = StopLoss(threshold=0.05)\n",
    "\n",
    "# Set up the backtest\n",
    "backtest = FxBacktest(\n",
    "    initial_date=datetime(2019, 1, 1),\n",
    "    final_date=datetime(2020, 1, 1),\n",
    "    universe=[\"EURUSD=X\", \"GBPUSD=X\"],  # List of FX pairs to trade\n",
    "    broker=broker,\n",
    "    information_class=information_class,\n",
    "    risk_model=risk_model,  # Provide risk model here\n",
    "    name_blockchain='backtest',  # Specify a blockchain name\n",
    "    verbose=True  # Set verbosity for logging\n",
    ")\n",
    "\n",
    "# Run the backtest\n",
    "backtest.run_backtest()\n",
    "\n",
    "\n"
   ]
  }
 ],
 "metadata": {
  "kernelspec": {
   "display_name": "fx-env-3-11",
   "language": "python",
   "name": "python3"
  },
  "language_info": {
   "codemirror_mode": {
    "name": "ipython",
    "version": 3
   },
   "file_extension": ".py",
   "mimetype": "text/x-python",
   "name": "python",
   "nbconvert_exporter": "python",
   "pygments_lexer": "ipython3",
   "version": "3.11.11"
  }
 },
 "nbformat": 4,
 "nbformat_minor": 5
}
