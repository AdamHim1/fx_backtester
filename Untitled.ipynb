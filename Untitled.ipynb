{
 "cells": [
  {
   "cell_type": "code",
   "execution_count": null,
   "id": "84cadff9",
   "metadata": {},
   "outputs": [],
   "source": [
    "from Fx_SourceCode_Adapt.Fx_data_module import get_fx_data, get_fx_pairs_data\n",
    "from datetime import datetime\n",
    "import pandas as pd\n",
    "\n",
    "\n",
    "# Set pandas display options to show all rows and columns in Jupyter notebook\n",
    "pd.set_option('display.max_rows', None)  # Set to None to show all rows\n",
    "pd.set_option('display.max_columns', None)  # Set to None to show all columns\n",
    "\n",
    "# Define your parameters\n",
    "tickers = ['EURUSD=X', 'USDJPY=X', 'GBPUSD=X']\n",
    "start_date = datetime(2019, 1, 1)\n",
    "end_date = datetime(2020, 1, 1)\n",
    "\n",
    "# Call the function to get data\n",
    "fx_data_multiple = get_fx_pairs_data(tickers, start_date, end_date)\n",
    "\n",
    "# Check if data is loaded correctly\n",
    "if not fx_data_multiple.empty:\n",
    "    print(\"\\nData for multiple FX pairs:\")\n",
    "    print(fx_data_multiple)  # Display first few rows of concatenated data\n",
    "else:\n",
    "    print(\"\\nNo data found for the provided FX tickers.\")\n"
   ]
  },
  {
   "cell_type": "code",
   "execution_count": null,
   "id": "fc36421b",
   "metadata": {},
   "outputs": [],
   "source": [
    "from Fx_SourceCode_Adapt.Fx_data_module import FirstTwoMoments\n",
    "from Fx_SourceCode_Adapt.Fx_broker import Backtest, StopLoss\n",
    "from Fx_SourceCode_Adapt.Fx_blockchain import load_blockchain\n",
    "from datetime import datetime\n",
    "\n",
    "# Set verbosity for logging\n",
    "verbose = False  # Set to True to enable logging, or False to suppress it\n",
    "\n",
    "backtest = Backtest(\n",
    "    initial_date=datetime(2019, 1, 1),\n",
    "    final_date=datetime(2020, 1, 1),\n",
    "    information_class=FirstTwoMoments,\n",
    "    risk_model=StopLoss,\n",
    "    name_blockchain='backtest',\n",
    "    verbose=verbose)\n",
    "\n",
    "backtest.run_backtest()\n",
    "\n",
    "block_chain = load_blockchain('backtest')\n",
    "print(str(block_chain))\n",
    "# check if the blockchain is valid\n",
    "print(block_chain.is_valid())"
   ]
  }
 ],
 "metadata": {
  "kernelspec": {
   "display_name": "fx-env-3-11",
   "language": "python",
   "name": "python3"
  },
  "language_info": {
   "codemirror_mode": {
    "name": "ipython",
    "version": 3
   },
   "file_extension": ".py",
   "mimetype": "text/x-python",
   "name": "python",
   "nbconvert_exporter": "python",
   "pygments_lexer": "ipython3",
   "version": "3.11.11"
  }
 },
 "nbformat": 4,
 "nbformat_minor": 5
}
